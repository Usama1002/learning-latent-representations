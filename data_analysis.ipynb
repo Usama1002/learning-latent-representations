{
 "cells": [
  {
   "cell_type": "code",
   "execution_count": 7,
   "id": "d885ef7a",
   "metadata": {},
   "outputs": [],
   "source": [
    "import pandas as pd"
   ]
  },
  {
   "cell_type": "code",
   "execution_count": 8,
   "id": "1b3bf08a",
   "metadata": {},
   "outputs": [
    {
     "data": {
      "text/plain": [
       "Index(['Unnamed: 0', 'TIME ', 'v(din00) ', 'v(dq00_ctl) ', 'TIME .1',\n",
       "       'v(din01) ', 'v(dq01_ctl) ', 'TIME .2', 'v(din02) ', 'v(dq02_ctl) ',\n",
       "       'TIME .3', 'v(din03) ', 'v(dq03_ctl) ', 'TIME .4', 'v(din04) ',\n",
       "       'v(dq04_ctl) ', 'TIME .5', 'v(din05) ', 'v(dq05_ctl) ', 'TIME .6',\n",
       "       'v(din06) ', 'v(dq06_ctl) ', 'TIME .7', 'v(din07) ', 'v(dq07_ctl) ',\n",
       "       'TIME .8', 'v(din08) ', 'v(dq08_ctl) ', 'TIME .9', 'v(din09) ',\n",
       "       'v(dq09_ctl) ', 'TIME .10', 'v(din10) ', 'v(dq10_ctl) ', 'TIME .11',\n",
       "       'v(din11) ', 'v(dq11_ctl) ', 'TIME .12', 'v(din12) ', 'v(dq12_ctl) ',\n",
       "       'TIME .13', 'v(din13) ', 'v(dq13_ctl) ', 'TIME .14', 'v(din14) ',\n",
       "       'v(dq14_ctl) ', 'TIME .15', 'v(din15) ', 'v(dq15_ctl) '],\n",
       "      dtype='object')"
      ]
     },
     "execution_count": 8,
     "metadata": {},
     "output_type": "execute_result"
    }
   ],
   "source": [
    "data = pd.read_csv('data/original_data/1_ISI.csv')\n",
    "data.keys()"
   ]
  },
  {
   "cell_type": "code",
   "execution_count": 9,
   "id": "47b59425",
   "metadata": {},
   "outputs": [
    {
     "data": {
      "text/plain": [
       "Index(['Unnamed: 0', 'TIME ', 'v(din00) ', 'v(dq00_ctl) ', 'TIME .1',\n",
       "       'v(din01) ', 'v(dq01_ctl) ', 'TIME .2', 'v(din02) ', 'v(dq02_ctl) ',\n",
       "       'TIME .3', 'v(din03) ', 'v(dq03_ctl) ', 'TIME .4', 'v(din04) ',\n",
       "       'v(dq04_ctl) ', 'TIME .5', 'v(din05) ', 'v(dq05_ctl) ', 'TIME .6',\n",
       "       'v(din06) ', 'v(dq06_ctl) ', 'TIME .7', 'v(din07) ', 'v(dq07_ctl) ',\n",
       "       'TIME .8', 'v(din08) ', 'v(dq08_ctl) ', 'TIME .9', 'v(din09) ',\n",
       "       'v(dq09_ctl) ', 'TIME .10', 'v(din10) ', 'v(dq10_ctl) ', 'TIME .11',\n",
       "       'v(din11) ', 'v(dq11_ctl) ', 'TIME .12', 'v(din12) ', 'v(dq12_ctl) ',\n",
       "       'TIME .13', 'v(din13) ', 'v(dq13_ctl) ', 'TIME .14', 'v(din14) ',\n",
       "       'v(dq14_ctl) ', 'TIME .15', 'v(din15) ', 'v(dq15_ctl) '],\n",
       "      dtype='object')"
      ]
     },
     "execution_count": 9,
     "metadata": {},
     "output_type": "execute_result"
    }
   ],
   "source": [
    "data = pd.read_csv('data/original_data/2_ISI.csv')\n",
    "data.keys()"
   ]
  },
  {
   "cell_type": "code",
   "execution_count": 10,
   "id": "bb825c4c",
   "metadata": {},
   "outputs": [
    {
     "data": {
      "text/plain": [
       "Index(['Unnamed: 0', 'TIME ', 'v(din00) ', 'v(dq00_ctl) ', 'TIME .1',\n",
       "       'v(din01) ', 'v(dq01_ctl) ', 'TIME .2', 'v(din02) ', 'v(dq02_ctl) ',\n",
       "       'TIME .3', 'v(din03) ', 'v(dq03_ctl) ', 'TIME .4', 'v(din04) ',\n",
       "       'v(dq04_ctl) ', 'TIME .5', 'v(din05) ', 'v(dq05_ctl) ', 'TIME .6',\n",
       "       'v(din06) ', 'v(dq06_ctl) ', 'TIME .7', 'v(din07) ', 'v(dq07_ctl) ',\n",
       "       'TIME .8', 'v(din08) ', 'v(dq08_ctl) ', 'TIME .9', 'v(din09) ',\n",
       "       'v(dq09_ctl) ', 'TIME .10', 'v(din10) ', 'v(dq10_ctl) ', 'TIME .11',\n",
       "       'v(din11) ', 'v(dq11_ctl) ', 'TIME .12', 'v(din12) ', 'v(dq12_ctl) ',\n",
       "       'TIME .13', 'v(din13) ', 'v(dq13_ctl) ', 'TIME .14', 'v(din14) ',\n",
       "       'v(dq14_ctl) ', 'TIME .15', 'v(din15) ', 'v(dq15_ctl) '],\n",
       "      dtype='object')"
      ]
     },
     "execution_count": 10,
     "metadata": {},
     "output_type": "execute_result"
    }
   ],
   "source": [
    "data = pd.read_csv('data/original_data/3_ISI.csv')\n",
    "data.keys()"
   ]
  },
  {
   "cell_type": "code",
   "execution_count": 11,
   "id": "f768e44f",
   "metadata": {},
   "outputs": [
    {
     "data": {
      "text/plain": [
       "Index(['Unnamed: 0', 'TIME ', 'v(din00) ', 'v(dq00_ctl) ', 'TIME .1',\n",
       "       'v(din01) ', 'v(dq01_ctl) ', 'TIME .2', 'v(din02) ', 'v(dq02_ctl) ',\n",
       "       'TIME .3', 'v(din03) ', 'v(dq03_ctl) ', 'TIME .4', 'v(din04) ',\n",
       "       'v(dq04_ctl) ', 'TIME .5', 'v(din05) ', 'v(dq05_ctl) ', 'TIME .6',\n",
       "       'v(din06) ', 'v(dq06_ctl) ', 'TIME .7', 'v(din07) ', 'v(dq07_ctl) ',\n",
       "       'TIME .8', 'v(din08) ', 'v(dq08_ctl) ', 'TIME .9', 'v(din09) ',\n",
       "       'v(dq09_ctl) ', 'TIME .10', 'v(din10) ', 'v(dq10_ctl) ', 'TIME .11',\n",
       "       'v(din11) ', 'v(dq11_ctl) ', 'TIME .12', 'v(din12) ', 'v(dq12_ctl) ',\n",
       "       'TIME .13', 'v(din13) ', 'v(dq13_ctl) ', 'TIME .14', 'v(din14) ',\n",
       "       'v(dq14_ctl) ', 'TIME .15', 'v(din15) ', 'v(dq15_ctl) '],\n",
       "      dtype='object')"
      ]
     },
     "execution_count": 11,
     "metadata": {},
     "output_type": "execute_result"
    }
   ],
   "source": [
    "data = pd.read_csv('data/original_data/4_ISI.csv')\n",
    "data.keys()"
   ]
  },
  {
   "cell_type": "code",
   "execution_count": 12,
   "id": "233a3efb",
   "metadata": {},
   "outputs": [
    {
     "data": {
      "text/plain": [
       "Index(['TIME ', 'v(din00) ', 'v(din01) ', 'v(din02) ', 'v(din03) ',\n",
       "       'v(din04) ', 'v(din05) ', 'v(din06) ', 'v(din07) ', 'v(din08) ',\n",
       "       'v(din09) ', 'v(din10) ', 'v(din11) ', 'v(din12) ', 'v(din13) ',\n",
       "       'v(din14) ', 'v(din15) ', 'v(dq00_ctl) ', 'v(dq01_ctl) ',\n",
       "       'v(dq02_ctl) ', 'v(dq03_ctl) ', 'v(dq04_ctl) ', 'v(dq05_ctl) ',\n",
       "       'v(dq06_ctl) ', 'v(dq07_ctl) ', 'v(dq08_ctl) ', 'v(dq09_ctl) ',\n",
       "       'v(dq10_ctl) ', 'v(dq11_ctl) ', 'v(dq12_ctl) ', 'v(dq13_ctl) ',\n",
       "       'v(dq14_ctl) ', 'v(dq15_ctl) '],\n",
       "      dtype='object')"
      ]
     },
     "execution_count": 12,
     "metadata": {},
     "output_type": "execute_result"
    }
   ],
   "source": [
    "data = pd.read_csv('data/original_data/5_XTALK.csv')\n",
    "data.keys()"
   ]
  }
 ],
 "metadata": {
  "kernelspec": {
   "display_name": "Python 3",
   "language": "python",
   "name": "python3"
  },
  "language_info": {
   "codemirror_mode": {
    "name": "ipython",
    "version": 3
   },
   "file_extension": ".py",
   "mimetype": "text/x-python",
   "name": "python",
   "nbconvert_exporter": "python",
   "pygments_lexer": "ipython3",
   "version": "3.10.12"
  }
 },
 "nbformat": 4,
 "nbformat_minor": 5
}
